import numpy  as np

A = np.array ([['a','b','c'],['d','e','f'],['g','h','i']])


print (A[:,:2])

print (A[:,:3])

A.dtype

A.shape

A.size

b = np.arange(5)
b + 20

b.shape

c = np.arange(5)

print (c<=3)
